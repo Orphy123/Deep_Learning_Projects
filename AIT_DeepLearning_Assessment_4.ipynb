{
  "nbformat": 4,
  "nbformat_minor": 0,
  "metadata": {
    "anaconda-cloud": {},
    "kernelspec": {
      "display_name": "Python 3",
      "language": "python",
      "name": "python3"
    },
    "language_info": {
      "codemirror_mode": {
        "name": "ipython",
        "version": 3
      },
      "file_extension": ".py",
      "mimetype": "text/x-python",
      "name": "python",
      "nbconvert_exporter": "python",
      "pygments_lexer": "ipython3",
      "version": "3.6.6"
    },
    "colab": {
      "provenance": [],
      "include_colab_link": true
    },
    "accelerator": "GPU"
  },
  "cells": [
    {
      "cell_type": "markdown",
      "metadata": {
        "id": "view-in-github",
        "colab_type": "text"
      },
      "source": [
        "<a href=\"https://colab.research.google.com/github/Orphy123/AITDeepLearning/blob/main/AIT_DeepLearning_Assessment_4.ipynb\" target=\"_parent\"><img src=\"https://colab.research.google.com/assets/colab-badge.svg\" alt=\"Open In Colab\"/></a>"
      ]
    },
    {
      "cell_type": "markdown",
      "metadata": {
        "id": "cW-EyI5Lxpqi"
      },
      "source": [
        "# Copyright\n",
        "\n",
        "<PRE>\n",
        "Copyright (c) 2023 Bálint Gyires-Tóth - All Rights Reserved\n",
        "You may use and modify this code for research and development purpuses.\n",
        "Using this code for educational purposes (self-paced or instructor led) without the permission of the author is prohibited.\n",
        "</PRE>"
      ]
    },
    {
      "cell_type": "markdown",
      "source": [
        "# Convolutional Neural Network exercise\n",
        "\n",
        "In this notebook, you will build a convolutional neural network, which offers superior results over the previous MLP solution. Additionally, you will perform a more detailed evaluation.  "
      ],
      "metadata": {
        "id": "3EX4cCa4WKJu"
      }
    },
    {
      "cell_type": "code",
      "source": [
        "# imports \n",
        "from tensorflow.keras.datasets import cifar10\n",
        "from tensorflow.keras.utils import to_categorical\n",
        "import numpy as np\n",
        "import matplotlib.pyplot as plt\n",
        "from tensorflow.keras.models import Sequential\n",
        "from tensorflow.keras.layers import Dense, Conv2D, MaxPool2D, Flatten, Dropout, BatchNormalization\n",
        "from tensorflow.keras.initializers import HeNormal\n",
        "from tensorflow.keras.callbacks import EarlyStopping"
      ],
      "metadata": {
        "id": "GdCMhy4HA2qd"
      },
      "execution_count": 23,
      "outputs": []
    },
    {
      "cell_type": "markdown",
      "source": [
        "# 1. Data\n",
        "The dataset we will use is the well-known CIFAR10 (Canadian Institute For Advanced Research). Explore the details on the Keras website first: https://keras.io/api/datasets/cifar10/\n",
        "\n",
        "There isn't much difference between the data preprocessing part and the one we did before. The only difference is that we don't have to reshape images into vectors, but we are working with a 4 dimensional data structure, where the dimensions are: batch, X, Y, and color channels. \n",
        "\n",
        "In the event that anything is not clear regarding the data preparation part, please check the previous CIFAR10 notebook."
      ],
      "metadata": {
        "id": "yY9fztIeWIKt"
      }
    },
    {
      "cell_type": "code",
      "source": [
        "(X_train, Y_train), (X_test, Y_test) = cifar10.load_data()"
      ],
      "metadata": {
        "id": "bez7q0eiWQCK"
      },
      "execution_count": 24,
      "outputs": []
    },
    {
      "cell_type": "code",
      "source": [
        "# it is in int8 format, the neural network requires float32\n",
        "X_train = X_train.astype(\"float32\")\n",
        "X_test = X_test.astype(\"float32\")"
      ],
      "metadata": {
        "id": "vukOcBM0XzSj"
      },
      "execution_count": 25,
      "outputs": []
    },
    {
      "cell_type": "code",
      "source": [
        "train_ratio  = 0.8\n",
        "train_length = X_train.shape[0]\n",
        "train_split  = int(train_ratio*train_length)\n",
        "X_valid, Y_valid = X_train[train_split:], Y_train[train_split:]\n",
        "X_train, Y_train = X_train[:train_split], Y_train[:train_split]"
      ],
      "metadata": {
        "id": "mRwuWxxIxLgN"
      },
      "execution_count": 26,
      "outputs": []
    },
    {
      "cell_type": "code",
      "source": [
        "mean = X_train.mean(axis=0)\n",
        "std  = X_train.std(axis=0)\n",
        "\n",
        "X_train = (X_train-mean)/std\n",
        "X_valid = (X_valid-mean)/std\n",
        "X_test  = (X_test-mean)/std"
      ],
      "metadata": {
        "id": "2ESLP1EIyB2J"
      },
      "execution_count": 27,
      "outputs": []
    },
    {
      "cell_type": "code",
      "source": [
        "nb_classes = len(np.unique(Y_train))\n",
        "Y_train = to_categorical(Y_train, nb_classes)\n",
        "Y_valid = to_categorical(Y_valid, nb_classes)\n",
        "Y_test  = to_categorical(Y_test, nb_classes)"
      ],
      "metadata": {
        "id": "xwZ4OJ6I8lba"
      },
      "execution_count": 28,
      "outputs": []
    },
    {
      "cell_type": "code",
      "source": [
        "print(\"Shapes of the training, validation and test input data:\", X_train.shape, X_valid.shape, X_test.shape)\n",
        "print(\"Shapes of the training, validation and test output data:\", Y_train.shape, Y_valid.shape, Y_test.shape)\n",
        "print(\"Mean values of the training, validation and test input data:\", X_train.mean(), X_valid.mean(), X_test.mean())\n",
        "print(\"Standard deviation of the training, validation and test input data:\", X_train.std(), X_valid.std(), X_test.std())"
      ],
      "metadata": {
        "id": "O_jdJVcvX0vi",
        "colab": {
          "base_uri": "https://localhost:8080/"
        },
        "outputId": "540d2209-78c5-4281-bafa-6affc01b1eac"
      },
      "execution_count": 29,
      "outputs": [
        {
          "output_type": "stream",
          "name": "stdout",
          "text": [
            "Shapes of the training, validation and test input data: (40000, 32, 32, 3) (10000, 32, 32, 3) (10000, 32, 32, 3)\n",
            "Shapes of the training, validation and test output data: (40000, 10) (10000, 10) (10000, 10)\n",
            "Mean values of the training, validation and test input data: 2.2788842e-09 0.0023437198 0.013331206\n",
            "Standard deviation of the training, validation and test input data: 1.0000023 0.9965626 0.99783075\n"
          ]
        }
      ]
    },
    {
      "cell_type": "markdown",
      "metadata": {
        "id": "cJ14oyZExpqj"
      },
      "source": [
        "# 2. Exercise: training"
      ]
    },
    {
      "cell_type": "markdown",
      "source": [
        "Create and train a convolutional neural network with the following requirements:\n",
        "* apply early stopping with patience=5 and monitor the validation accuracy, don't forget to load back the best weights after early stopping\n",
        "* the number of trainable parameters is lower than 200.000\n",
        "* the validation accuracy must be higher than 72%\n",
        "\n",
        "Hints:\n",
        "* you can always inspect the number of trainable parameters per layer with model.summary()\n",
        "* usually the most trainable parameters are between the last convolutional layer and the next dense layer -- so you should have a reasonable output size at the last convolutional layer\n",
        "* regularization helps (e.g. DropOut and/or BatchNormalization)\n",
        "* use the right activation function at the output layer and the corresponding loss function\n",
        "* for the chosen activation functions, please use the appropriate initialization method\n",
        "* you can match the dimension of the last conv/pooling layer to the next dense layer with e.g. Flatten()\n",
        "* ADAM optimizer is a reasonable choice \n",
        "* don't forget to turn on GPU support in Colab, otherwise, it would be quite slow to train the networks\n",
        "\n"
      ],
      "metadata": {
        "id": "j1tGVPdD-pp3"
      }
    },
    {
      "cell_type": "code",
      "source": [
        "es = EarlyStopping(patience=5, monitor='val_accuracy', restore_best_weights=True)# early stopping"
      ],
      "metadata": {
        "id": "5dBQxJHIHrbd"
      },
      "execution_count": 30,
      "outputs": []
    },
    {
      "cell_type": "code",
      "source": [
        "\n",
        "# model definition\n",
        "model = Sequential()\n",
        "\n",
        "model.add(Conv2D(filters=16, kernel_size=(3, 3), activation='relu', padding='same', input_shape=X_train.shape[1:], kernel_initializer='he_normal'))\n",
        "model.add(BatchNormalization())\n",
        "model.add(Conv2D(filters=16, kernel_size=(3, 3), activation='relu', padding='same', kernel_initializer='he_normal'))\n",
        "model.add(MaxPool2D(pool_size=(2, 2)))\n",
        "model.add(Dropout(0.25))\n",
        "\n",
        "model.add(Conv2D(filters=16, kernel_size=(3, 3), activation='relu', padding='same', kernel_initializer='he_normal'))\n",
        "model.add(BatchNormalization())\n",
        "model.add(Conv2D(filters=16, kernel_size=(3, 3), activation='relu', padding='same', kernel_initializer='he_normal'))\n",
        "model.add(MaxPool2D(pool_size=(2, 2)))\n",
        "model.add(Dropout(0.25))\n",
        "\n",
        "model.add(Flatten())\n",
        "\n",
        "model.add(Dense(units=128, activation='relu', kernel_initializer='he_normal'))\n",
        "model.add(BatchNormalization())\n",
        "model.add(Dropout(0.5))\n",
        "\n",
        "model.add(Dense(units=nb_classes, activation='softmax'))\n",
        "\n",
        "\n",
        "# loss function and optimizer\n",
        "model.compile(loss='categorical_crossentropy', optimizer='adam', metrics=['accuracy'])\n",
        "\n"
      ],
      "metadata": {
        "id": "PuxHOqLt-3Nd"
      },
      "execution_count": 31,
      "outputs": []
    },
    {
      "cell_type": "code",
      "source": [
        "model.summary()"
      ],
      "metadata": {
        "id": "5eomQw8uE9Ix",
        "colab": {
          "base_uri": "https://localhost:8080/"
        },
        "outputId": "56ebbba1-73ee-4df1-9204-cfa7fcfdbb3e"
      },
      "execution_count": 32,
      "outputs": [
        {
          "output_type": "stream",
          "name": "stdout",
          "text": [
            "Model: \"sequential_5\"\n",
            "_________________________________________________________________\n",
            " Layer (type)                Output Shape              Param #   \n",
            "=================================================================\n",
            " conv2d_22 (Conv2D)          (None, 32, 32, 16)        448       \n",
            "                                                                 \n",
            " batch_normalization_16 (Bat  (None, 32, 32, 16)       64        \n",
            " chNormalization)                                                \n",
            "                                                                 \n",
            " conv2d_23 (Conv2D)          (None, 32, 32, 16)        2320      \n",
            "                                                                 \n",
            " max_pooling2d_11 (MaxPoolin  (None, 16, 16, 16)       0         \n",
            " g2D)                                                            \n",
            "                                                                 \n",
            " dropout_16 (Dropout)        (None, 16, 16, 16)        0         \n",
            "                                                                 \n",
            " conv2d_24 (Conv2D)          (None, 16, 16, 16)        2320      \n",
            "                                                                 \n",
            " batch_normalization_17 (Bat  (None, 16, 16, 16)       64        \n",
            " chNormalization)                                                \n",
            "                                                                 \n",
            " conv2d_25 (Conv2D)          (None, 16, 16, 16)        2320      \n",
            "                                                                 \n",
            " max_pooling2d_12 (MaxPoolin  (None, 8, 8, 16)         0         \n",
            " g2D)                                                            \n",
            "                                                                 \n",
            " dropout_17 (Dropout)        (None, 8, 8, 16)          0         \n",
            "                                                                 \n",
            " flatten_5 (Flatten)         (None, 1024)              0         \n",
            "                                                                 \n",
            " dense_10 (Dense)            (None, 128)               131200    \n",
            "                                                                 \n",
            " batch_normalization_18 (Bat  (None, 128)              512       \n",
            " chNormalization)                                                \n",
            "                                                                 \n",
            " dropout_18 (Dropout)        (None, 128)               0         \n",
            "                                                                 \n",
            " dense_11 (Dense)            (None, 10)                1290      \n",
            "                                                                 \n",
            "=================================================================\n",
            "Total params: 140,538\n",
            "Trainable params: 140,218\n",
            "Non-trainable params: 320\n",
            "_________________________________________________________________\n"
          ]
        }
      ]
    },
    {
      "cell_type": "markdown",
      "source": [
        "Please, check the number of trainable paramers:"
      ],
      "metadata": {
        "id": "8tIbIIeTEI41"
      }
    },
    {
      "cell_type": "code",
      "source": [
        "print(\"#trainable parameters:\",model.count_params())"
      ],
      "metadata": {
        "id": "xdBAG7EJETlX",
        "colab": {
          "base_uri": "https://localhost:8080/"
        },
        "outputId": "a89cf827-7828-412a-8fcd-88343afb442e"
      },
      "execution_count": 33,
      "outputs": [
        {
          "output_type": "stream",
          "name": "stdout",
          "text": [
            "#trainable parameters: 140538\n"
          ]
        }
      ]
    },
    {
      "cell_type": "code",
      "source": [
        "# training\n",
        "network_history = model.fit(X_train, Y_train, epochs=100, batch_size=128, validation_data=(X_valid, Y_valid), callbacks=[es])\n"
      ],
      "metadata": {
        "id": "u8tFNCNVHyt9",
        "colab": {
          "base_uri": "https://localhost:8080/"
        },
        "outputId": "1b07f47c-8b3b-4542-b912-e5d95ab4b164"
      },
      "execution_count": 34,
      "outputs": [
        {
          "output_type": "stream",
          "name": "stdout",
          "text": [
            "Epoch 1/100\n",
            "313/313 [==============================] - 7s 12ms/step - loss: 1.9450 - accuracy: 0.3498 - val_loss: 1.5025 - val_accuracy: 0.4509\n",
            "Epoch 2/100\n",
            "313/313 [==============================] - 3s 9ms/step - loss: 1.4761 - accuracy: 0.4679 - val_loss: 1.2737 - val_accuracy: 0.5464\n",
            "Epoch 3/100\n",
            "313/313 [==============================] - 3s 11ms/step - loss: 1.3423 - accuracy: 0.5133 - val_loss: 1.1832 - val_accuracy: 0.5781\n",
            "Epoch 4/100\n",
            "313/313 [==============================] - 3s 10ms/step - loss: 1.2722 - accuracy: 0.5435 - val_loss: 1.1410 - val_accuracy: 0.5933\n",
            "Epoch 5/100\n",
            "313/313 [==============================] - 3s 10ms/step - loss: 1.2072 - accuracy: 0.5676 - val_loss: 1.0851 - val_accuracy: 0.6143\n",
            "Epoch 6/100\n",
            "313/313 [==============================] - 3s 10ms/step - loss: 1.1506 - accuracy: 0.5884 - val_loss: 1.0123 - val_accuracy: 0.6396\n",
            "Epoch 7/100\n",
            "313/313 [==============================] - 3s 11ms/step - loss: 1.0992 - accuracy: 0.6072 - val_loss: 0.9776 - val_accuracy: 0.6530\n",
            "Epoch 8/100\n",
            "313/313 [==============================] - 3s 11ms/step - loss: 1.0708 - accuracy: 0.6194 - val_loss: 0.9356 - val_accuracy: 0.6708\n",
            "Epoch 9/100\n",
            "313/313 [==============================] - 3s 11ms/step - loss: 1.0323 - accuracy: 0.6354 - val_loss: 0.9073 - val_accuracy: 0.6765\n",
            "Epoch 10/100\n",
            "313/313 [==============================] - 3s 11ms/step - loss: 1.0060 - accuracy: 0.6422 - val_loss: 0.9023 - val_accuracy: 0.6785\n",
            "Epoch 11/100\n",
            "313/313 [==============================] - 3s 10ms/step - loss: 0.9945 - accuracy: 0.6477 - val_loss: 0.9200 - val_accuracy: 0.6693\n",
            "Epoch 12/100\n",
            "313/313 [==============================] - 3s 10ms/step - loss: 0.9686 - accuracy: 0.6557 - val_loss: 0.8483 - val_accuracy: 0.6984\n",
            "Epoch 13/100\n",
            "313/313 [==============================] - 3s 9ms/step - loss: 0.9496 - accuracy: 0.6643 - val_loss: 0.8871 - val_accuracy: 0.6818\n",
            "Epoch 14/100\n",
            "313/313 [==============================] - 3s 10ms/step - loss: 0.9411 - accuracy: 0.6644 - val_loss: 0.8474 - val_accuracy: 0.6952\n",
            "Epoch 15/100\n",
            "313/313 [==============================] - 3s 10ms/step - loss: 0.9205 - accuracy: 0.6738 - val_loss: 0.8198 - val_accuracy: 0.7037\n",
            "Epoch 16/100\n",
            "313/313 [==============================] - 3s 9ms/step - loss: 0.9059 - accuracy: 0.6803 - val_loss: 0.8189 - val_accuracy: 0.7073\n",
            "Epoch 17/100\n",
            "313/313 [==============================] - 3s 9ms/step - loss: 0.8996 - accuracy: 0.6819 - val_loss: 0.8215 - val_accuracy: 0.7091\n",
            "Epoch 18/100\n",
            "313/313 [==============================] - 3s 11ms/step - loss: 0.8835 - accuracy: 0.6892 - val_loss: 0.8096 - val_accuracy: 0.7124\n",
            "Epoch 19/100\n",
            "313/313 [==============================] - 3s 10ms/step - loss: 0.8758 - accuracy: 0.6910 - val_loss: 0.8195 - val_accuracy: 0.7078\n",
            "Epoch 20/100\n",
            "313/313 [==============================] - 3s 9ms/step - loss: 0.8616 - accuracy: 0.6938 - val_loss: 0.7815 - val_accuracy: 0.7263\n",
            "Epoch 21/100\n",
            "313/313 [==============================] - 3s 10ms/step - loss: 0.8526 - accuracy: 0.7006 - val_loss: 0.7759 - val_accuracy: 0.7252\n",
            "Epoch 22/100\n",
            "313/313 [==============================] - 3s 11ms/step - loss: 0.8480 - accuracy: 0.6982 - val_loss: 0.7819 - val_accuracy: 0.7224\n",
            "Epoch 23/100\n",
            "313/313 [==============================] - 3s 10ms/step - loss: 0.8348 - accuracy: 0.7051 - val_loss: 0.7534 - val_accuracy: 0.7309\n",
            "Epoch 24/100\n",
            "313/313 [==============================] - 3s 9ms/step - loss: 0.8339 - accuracy: 0.7052 - val_loss: 0.7608 - val_accuracy: 0.7301\n",
            "Epoch 25/100\n",
            "313/313 [==============================] - 3s 10ms/step - loss: 0.8295 - accuracy: 0.7078 - val_loss: 0.7585 - val_accuracy: 0.7329\n",
            "Epoch 26/100\n",
            "313/313 [==============================] - 4s 12ms/step - loss: 0.8171 - accuracy: 0.7117 - val_loss: 0.7438 - val_accuracy: 0.7404\n",
            "Epoch 27/100\n",
            "313/313 [==============================] - 3s 10ms/step - loss: 0.8142 - accuracy: 0.7132 - val_loss: 0.7448 - val_accuracy: 0.7365\n",
            "Epoch 28/100\n",
            "313/313 [==============================] - 3s 10ms/step - loss: 0.8115 - accuracy: 0.7128 - val_loss: 0.7553 - val_accuracy: 0.7332\n",
            "Epoch 29/100\n",
            "313/313 [==============================] - 3s 11ms/step - loss: 0.8062 - accuracy: 0.7161 - val_loss: 0.7455 - val_accuracy: 0.7393\n",
            "Epoch 30/100\n",
            "313/313 [==============================] - 3s 11ms/step - loss: 0.7939 - accuracy: 0.7196 - val_loss: 0.7442 - val_accuracy: 0.7388\n",
            "Epoch 31/100\n",
            "313/313 [==============================] - 3s 9ms/step - loss: 0.7942 - accuracy: 0.7206 - val_loss: 0.7371 - val_accuracy: 0.7359\n"
          ]
        }
      ]
    },
    {
      "cell_type": "markdown",
      "source": [
        "# 3. Exercise: evaluation on test data\n",
        "You will evaluate the classification of the test data using the common metrics and the confusion matrix in this section. \n",
        "\n",
        "\n",
        "As a first stes, let's run the predictions and convert the predicted softmax outputs to dense labels. The one-hot encoded labels are also converted back to dense labels, as they are required for the evaluation functions."
      ],
      "metadata": {
        "id": "2FtKp-a2-A9m"
      }
    },
    {
      "cell_type": "code",
      "source": [
        "probas = model.predict(X_test)\n",
        "preds  = np.argmax(probas,axis=1)\n",
        "Y_test_dense = np.argmax(Y_test, axis=1) # get the original dense labels of the test data"
      ],
      "metadata": {
        "id": "EcWAqwlDMq3y",
        "colab": {
          "base_uri": "https://localhost:8080/"
        },
        "outputId": "7dc53ba2-29ca-4de0-dbd1-3a135191ecc8"
      },
      "execution_count": 35,
      "outputs": [
        {
          "output_type": "stream",
          "name": "stdout",
          "text": [
            "313/313 [==============================] - 1s 2ms/step\n"
          ]
        }
      ]
    },
    {
      "cell_type": "markdown",
      "source": [
        "## 3.1. Exercise: Metrics\n",
        "please review the common classification metrics (accuracy, precision, recall, F1) for the complete model (not per class). \n",
        "\n",
        "Hints:\n",
        "* use macro averaging\n",
        "* you have to import the right functions from [sklearn.metrics](https://scikit-learn.org/stable/modules/model_evaluation.html)\n"
      ],
      "metadata": {
        "id": "RWJ-PH_iMs9K"
      }
    },
    {
      "cell_type": "code",
      "source": [
        "from sklearn.metrics import accuracy_score, precision_score, recall_score, f1_score\n",
        "\n",
        "\n",
        "\n",
        "# evaluate metrics\n",
        "acc = accuracy_score(Y_test_dense, preds)\n",
        "precision = precision_score(Y_test_dense, preds, average='macro')\n",
        "recall = recall_score(Y_test_dense, preds, average='macro')\n",
        "f1 = f1_score(Y_test_dense, preds, average='macro')"
      ],
      "metadata": {
        "id": "5sKm5zHSMZ_x"
      },
      "execution_count": 36,
      "outputs": []
    },
    {
      "cell_type": "code",
      "source": [
        "print(\"Accuracy:\", acc)\n",
        "print(\"Precision:\", precision)\n",
        "print(\"Recall:\", recall)\n",
        "print(\"F1:\", f1)"
      ],
      "metadata": {
        "id": "I3_9wgDREUna",
        "colab": {
          "base_uri": "https://localhost:8080/"
        },
        "outputId": "1c6fa301-6558-4dd2-fcc7-8c1d31773479"
      },
      "execution_count": 37,
      "outputs": [
        {
          "output_type": "stream",
          "name": "stdout",
          "text": [
            "Accuracy: 0.7309\n",
            "Precision: 0.7297655693298652\n",
            "Recall: 0.7308999999999999\n",
            "F1: 0.7286978210382491\n"
          ]
        }
      ]
    },
    {
      "cell_type": "markdown",
      "source": [
        "\n",
        "## 3.2. Exercise: Confusion matrix\n",
        "Calculate the confusion matrix and display the results in a heatmap (with decimal values).\n",
        "\n",
        "Hints:\n",
        "* you have to do the imports this time too, e.g. from [sklearn.metrics](https://scikit-learn.org/stable/modules/model_evaluation.html) and the [heatmap function](https://seaborn.pydata.org/generated/seaborn.heatmap.html) of [seaborn](https://seaborn.pydata.org/)\n",
        "* for displaying the decimal values, you have to turn annot=True and define fmt='d' in the heatmap function of seaborn"
      ],
      "metadata": {
        "id": "ECHguBFtGL7f"
      }
    },
    {
      "cell_type": "code",
      "source": [
        "from sklearn.metrics import confusion_matrix\n",
        "import seaborn as sns"
      ],
      "metadata": {
        "id": "SIi2VzMBO3yD"
      },
      "execution_count": 38,
      "outputs": []
    },
    {
      "cell_type": "code",
      "metadata": {
        "id": "cdqODx92Svw7",
        "colab": {
          "base_uri": "https://localhost:8080/",
          "height": 388
        },
        "outputId": "998441e3-0792-41c7-a29e-19f0c2d09933"
      },
      "source": [
        "\n",
        "conf = confusion_matrix(Y_test_dense, preds)\n",
        "\n",
        "plt.figure(figsize=(7,6))\n",
        "sns.heatmap(conf, annot=True, fmt='d')\n",
        "plt.xlabel('Predicted Labels')\n",
        "plt.ylabel('True Labels')\n",
        "plt.show()"
      ],
      "execution_count": 39,
      "outputs": [
        {
          "output_type": "display_data",
          "data": {
            "text/plain": [
              "<Figure size 504x432 with 2 Axes>"
            ],
            "image/png": "[encoded data removed]"
          },
          "metadata": {
            "needs_background": "light"
          }
        }
      ]
    }
  ]
}