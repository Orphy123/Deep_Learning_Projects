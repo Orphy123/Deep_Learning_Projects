{
  "nbformat": 4,
  "nbformat_minor": 0,
  "metadata": {
    "kernelspec": {
      "display_name": "Python 3",
      "language": "python",
      "name": "python3"
    },
    "language_info": {
      "codemirror_mode": {
        "name": "ipython",
        "version": 3
      },
      "file_extension": ".py",
      "mimetype": "text/x-python",
      "name": "python",
      "nbconvert_exporter": "python",
      "pygments_lexer": "ipython3",
      "version": "3.6.6"
    },
    "colab": {
      "provenance": [],
      "include_colab_link": true
    }
  },
  "cells": [
    {
      "cell_type": "markdown",
      "metadata": {
        "id": "view-in-github",
        "colab_type": "text"
      },
      "source": [
        "<a href=\"https://colab.research.google.com/github/Orphy123/AITDeepLearning/blob/main/AIT_09_Author_classification_assessment.ipynb\" target=\"_parent\"><img src=\"https://colab.research.google.com/assets/colab-badge.svg\" alt=\"Open In Colab\"/></a>"
      ]
    },
    {
      "cell_type": "markdown",
      "metadata": {
        "id": "_jiGtJu6u9ml"
      },
      "source": [
        "# Copyright\n",
        "\n",
        "<PRE>\n",
        "Copyright (c) 2023 Bálint Gyires-Tóth - All Rights Reserved\n",
        "You may use and modify this code for research and development purpuses.\n",
        "Use this code for educational purposes (self-paced or instructor led) without the permission of the author is prohibited.\n",
        "</PRE>"
      ]
    },
    {
      "cell_type": "markdown",
      "metadata": {
        "id": "oXyFC44jV-PP"
      },
      "source": [
        "# Author classification\n",
        "The task is to train a 1D CNN or an LSTM that is able to  classify text from two authors. The final model should be able to tell about a text with a given length (e.g. 60 characters) who wrote it. \n",
        "\n",
        "Please write the codes according to the following parts:"
      ]
    },
    {
      "cell_type": "markdown",
      "metadata": {
        "id": "jCnLoeGrHXsp"
      },
      "source": [
        "## Python module imports\n",
        "Import all Python modules that you would need during the Assignment."
      ]
    },
    {
      "cell_type": "code",
      "metadata": {
        "id": "7itbFGt3HXVT"
      },
      "source": [
        "import numpy as np\n",
        "import pandas as pd\n",
        "import seaborn as sns\n",
        "import matplotlib.pyplot as plt\n",
        "import os\n",
        "import urllib.request\n",
        "from sklearn.model_selection import train_test_split\n",
        "from sklearn.metrics import confusion_matrix, classification_report\n",
        "from keras.models import Sequential\n",
        "from keras.layers import Dense, LSTM, Conv1D, MaxPooling1D, GlobalMaxPooling1D, Dropout, Embedding\n",
        "from keras.callbacks import EarlyStopping\n",
        "from keras.utils import to_categorical\n",
        "from keras.preprocessing.text import Tokenizer\n",
        "\n"
      ],
      "execution_count": 2,
      "outputs": []
    },
    {
      "cell_type": "markdown",
      "metadata": {
        "id": "Hr617tEpHd8R"
      },
      "source": [
        "## Data acquisition\n",
        "Seek a possible dataset, you can use any source, e.g.\n",
        "* http://www.gutenberg.org/\n",
        "* https://www.kaggle.com/datasets\n",
        "* https://paperswithcode.com/datasets\n",
        "* if you would like to learn Hungarian, than e.g. https://mek.oszk.hu/\n",
        "\n",
        "You can download the text by hand (e.g. by copy-pasting some parts into txt files) or with Python. "
      ]
    },
    {
      "cell_type": "code",
      "metadata": {
        "id": "NgkdQxHqHdZB",
        "colab": {
          "base_uri": "https://localhost:8080/"
        },
        "outputId": "c0da055a-488d-4d98-991f-8b125e895a87"
      },
      "source": [
        "url1 = \"https://www.gutenberg.org/files/1342/1342-0.txt\" # Pride and Prejudice by Jane Austen\n",
        "url2 = \"https://www.gutenberg.org/files/11/11-0.txt\" # Alice's Adventures in Wonderland by Lewis Carroll\n",
        "\n",
        "urllib.request.urlretrieve(url1, 'author1.txt')\n",
        "urllib.request.urlretrieve(url2, 'author2.txt')\n"
      ],
      "execution_count": 3,
      "outputs": [
        {
          "output_type": "execute_result",
          "data": {
            "text/plain": [
              "('author2.txt', <http.client.HTTPMessage at 0x7fb2c9066970>)"
            ]
          },
          "metadata": {},
          "execution_count": 3
        }
      ]
    },
    {
      "cell_type": "markdown",
      "source": [
        "## Data analysis\n",
        "Count the number of characters from both authors and display them on a plot (e.g. Seaborn's countplot)."
      ],
      "metadata": {
        "id": "U9Pmq91t3SRD"
      }
    },
    {
      "cell_type": "code",
      "source": [
        "def load_text(file_path):\n",
        "    with open(file_path, 'r', encoding='utf-8') as file:\n",
        "        text = file.read()\n",
        "    return text\n",
        "\n",
        "author1_text = load_text('author1.txt')\n",
        "author2_text = load_text('author2.txt')\n",
        "\n",
        "author1_chars = len(author1_text)\n",
        "author2_chars = len(author2_text)\n",
        "\n",
        "sns.barplot(x=['Author 1', 'Author 2'], y=[author1_chars, author2_chars])\n",
        "plt.show()\n",
        "\n"
      ],
      "metadata": {
        "id": "uRqGdn4F3Spk",
        "colab": {
          "base_uri": "https://localhost:8080/",
          "height": 430
        },
        "outputId": "ae9773c2-8d5d-4122-976e-ffd687abf142"
      },
      "execution_count": 4,
      "outputs": [
        {
          "output_type": "display_data",
          "data": {
            "text/plain": [
              "<Figure size 640x480 with 1 Axes>"
            ],
            "image/png": "[encoded data removed]"
          },
          "metadata": {}
        }
      ]
    },
    {
      "cell_type": "markdown",
      "metadata": {
        "id": "cHyE_ndGIblJ"
      },
      "source": [
        "## Data loading, labeling and preprocessing\n",
        "Load the data and convert the characters into one-hot encodings. Then load the data into a 3D NumPy array, with a shape of\n",
        "\n",
        "* (batch, sequence_length, alphabet_length)\n",
        "\n",
        "where sequence_length=60, and alphabet_length equals to the number of unique characters in both datasets. The sequences should be cut out from the complete dataset by sliding window. You should add 0 and 1 labels to the sequences, according to the author. \n",
        "\n",
        "Later you may change sequence_length to achieve better results!"
      ]
    },
    {
      "cell_type": "code",
      "metadata": {
        "id": "arooXt0WIb6x",
        "colab": {
          "base_uri": "https://localhost:8080/"
        },
        "outputId": "94ddf003-328a-4e90-fd99-5bf4240b1608"
      },
      "source": [
        "def load_text(file_path):\n",
        "    with open(file_path, 'r', encoding='utf-8') as file:\n",
        "        text = file.read()\n",
        "    return text\n",
        "\n",
        "author1_text = load_text('author1.txt')\n",
        "author2_text = load_text('author2.txt')\n",
        "\n",
        "# combine texts and create mapping of unique characters to integers\n",
        "combined_text = author1_text + author2_text\n",
        "unique_chars = sorted(list(set(combined_text)))\n",
        "char_to_int = dict((c, i) for i, c in enumerate(unique_chars))\n",
        "\n",
        "# generate sequences with sliding window approach and assign labels\n",
        "sequences = []\n",
        "labels = []\n",
        "seq_length = 60\n",
        "for i in range(0, len(combined_text) - seq_length, 10):\n",
        "    seq = combined_text[i:i+seq_length]\n",
        "    label = 0 if i < len(author1_text) else 1\n",
        "    sequences.append([char_to_int[char] for char in seq])\n",
        "    labels.append(label)\n",
        "\n",
        "# convert sequences and labels to numpy arrays\n",
        "sequences = np.array(sequences)\n",
        "labels = to_categorical(labels)\n",
        "\n",
        "# convert characters to one-hot encodings\n",
        "alphabet_length = len(unique_chars)\n",
        "one_hot_sequences = np.zeros((len(sequences), seq_length, alphabet_length), dtype=np.bool)\n",
        "for i, sequence in enumerate(sequences):\n",
        "    for t, char in enumerate(sequence):\n",
        "        one_hot_sequences[i, t, char] = 1\n"
      ],
      "execution_count": 5,
      "outputs": [
        {
          "output_type": "stream",
          "name": "stderr",
          "text": [
            "<ipython-input-5-71a393245799>:30: DeprecationWarning: `np.bool` is a deprecated alias for the builtin `bool`. To silence this warning, use `bool` by itself. Doing this will not modify any behavior and is safe. If you specifically wanted the numpy scalar type, use `np.bool_` here.\n",
            "Deprecated in NumPy 1.20; for more details and guidance: https://numpy.org/devdocs/release/1.20.0-notes.html#deprecations\n",
            "  one_hot_sequences = np.zeros((len(sequences), seq_length, alphabet_length), dtype=np.bool)\n"
          ]
        }
      ]
    },
    {
      "cell_type": "markdown",
      "metadata": {
        "id": "lL1Mc8ibHnep"
      },
      "source": [
        "## Data splitting\n",
        "Split the data into train, validate and test sets. Make "
      ]
    },
    {
      "cell_type": "code",
      "metadata": {
        "id": "ELyG9XFUHrkB"
      },
      "source": [
        "X_train, X_test, y_train, y_test = train_test_split(one_hot_sequences, labels, test_size=0.2, random_state=42)\n",
        "X_train, X_val, y_train, y_val = train_test_split(X_train, y_train, test_size=0.2, random_state=42)\n"
      ],
      "execution_count": 6,
      "outputs": []
    },
    {
      "cell_type": "markdown",
      "metadata": {
        "id": "hA8U9tr7HrNQ"
      },
      "source": [
        "## Model definition\n",
        "Define a 1D CNN or an LSTM for the task. Compile the model with the correct loss function."
      ]
    },
    {
      "cell_type": "code",
      "metadata": {
        "id": "BT1V1s4kHuUe"
      },
      "source": [
        "model = Sequential()\n",
        "model.add(Conv1D(filters=64, kernel_size=3, activation='relu', input_shape=(seq_length, alphabet_length)))\n",
        "model.add(MaxPooling1D(pool_size=2))\n",
        "model.add(Conv1D(filters=128, kernel_size=3, activation='relu'))\n",
        "model.add(MaxPooling1D(pool_size=2))\n",
        "model.add(LSTM(units=128, dropout=0.2, recurrent_dropout=0.2))\n",
        "model.add(Dense(units=2, activation='softmax'))\n",
        "model.compile(loss='binary_crossentropy', optimizer='adam', metrics=['accuracy'])"
      ],
      "execution_count": 7,
      "outputs": []
    },
    {
      "cell_type": "markdown",
      "metadata": {
        "id": "hWFb-nAMHuAI"
      },
      "source": [
        "## Model training\n",
        "Train the model and apply early stopping."
      ]
    },
    {
      "cell_type": "code",
      "metadata": {
        "id": "dvgKjqp3Hwkp",
        "colab": {
          "base_uri": "https://localhost:8080/"
        },
        "outputId": "2e97eb18-bafa-4dc0-d73d-1d6dbbdc96b5"
      },
      "source": [
        "callbacks = [EarlyStopping(monitor='val_loss', patience=3)]\n",
        "\n",
        "history = model.fit(X_train, y_train, validation_data=(X_val, y_val),\n",
        "                    epochs=12, batch_size=32, callbacks=callbacks)\n",
        "\n",
        "# evaluate the model on the test set\n",
        "loss, accuracy = model.evaluate(X_test, y_test)\n",
        "print(f'Test loss: {loss:.3f}\\nTest accuracy: {accuracy:.3f}')\n"
      ],
      "execution_count": 8,
      "outputs": [
        {
          "output_type": "stream",
          "name": "stdout",
          "text": [
            "Epoch 1/12\n",
            "1825/1825 [==============================] - 121s 64ms/step - loss: 0.2581 - accuracy: 0.9001 - val_loss: 0.1849 - val_accuracy: 0.9260\n",
            "Epoch 2/12\n",
            "1825/1825 [==============================] - 114s 63ms/step - loss: 0.1540 - accuracy: 0.9400 - val_loss: 0.1731 - val_accuracy: 0.9381\n",
            "Epoch 3/12\n",
            "1825/1825 [==============================] - 114s 62ms/step - loss: 0.1155 - accuracy: 0.9547 - val_loss: 0.1060 - val_accuracy: 0.9564\n",
            "Epoch 4/12\n",
            "1825/1825 [==============================] - 114s 62ms/step - loss: 0.0878 - accuracy: 0.9650 - val_loss: 0.1075 - val_accuracy: 0.9585\n",
            "Epoch 5/12\n",
            "1825/1825 [==============================] - 118s 65ms/step - loss: 0.0695 - accuracy: 0.9728 - val_loss: 0.0815 - val_accuracy: 0.9677\n",
            "Epoch 6/12\n",
            "1825/1825 [==============================] - 113s 62ms/step - loss: 0.0575 - accuracy: 0.9775 - val_loss: 0.0667 - val_accuracy: 0.9752\n",
            "Epoch 7/12\n",
            "1825/1825 [==============================] - 119s 65ms/step - loss: 0.0475 - accuracy: 0.9816 - val_loss: 0.0594 - val_accuracy: 0.9803\n",
            "Epoch 8/12\n",
            "1825/1825 [==============================] - 115s 63ms/step - loss: 0.0407 - accuracy: 0.9841 - val_loss: 0.0575 - val_accuracy: 0.9803\n",
            "Epoch 9/12\n",
            "1825/1825 [==============================] - 115s 63ms/step - loss: 0.0361 - accuracy: 0.9860 - val_loss: 0.0694 - val_accuracy: 0.9796\n",
            "Epoch 10/12\n",
            "1825/1825 [==============================] - 118s 65ms/step - loss: 0.0331 - accuracy: 0.9876 - val_loss: 0.0497 - val_accuracy: 0.9833\n",
            "Epoch 11/12\n",
            "1825/1825 [==============================] - 115s 63ms/step - loss: 0.0296 - accuracy: 0.9893 - val_loss: 0.0733 - val_accuracy: 0.9768\n",
            "Epoch 12/12\n",
            "1825/1825 [==============================] - 116s 63ms/step - loss: 0.0247 - accuracy: 0.9905 - val_loss: 0.0587 - val_accuracy: 0.9802\n",
            "571/571 [==============================] - 8s 13ms/step - loss: 0.0602 - accuracy: 0.9794\n",
            "Test loss: 0.060\n",
            "Test accuracy: 0.979\n"
          ]
        }
      ]
    },
    {
      "cell_type": "markdown",
      "metadata": {
        "id": "0omw2XzSHwOo"
      },
      "source": [
        "## Evaluation on test data\n",
        "Evaluate the model on the test data in terms of loss and accuracy."
      ]
    },
    {
      "cell_type": "code",
      "metadata": {
        "id": "4bF3dQA1Hv_R",
        "colab": {
          "base_uri": "https://localhost:8080/"
        },
        "outputId": "92283d5b-1103-4e08-fac3-bc3f8b98dce8"
      },
      "source": [
        "loss, accuracy = model.evaluate(X_test, y_test)\n",
        "print(f\"Loss: {loss:.4f}\")\n",
        "print(f\"Accuracy: {accuracy:.4f}\")\n"
      ],
      "execution_count": 9,
      "outputs": [
        {
          "output_type": "stream",
          "name": "stdout",
          "text": [
            "571/571 [==============================] - 6s 11ms/step - loss: 0.0602 - accuracy: 0.9794\n",
            "Loss: 0.0602\n",
            "Accuracy: 0.9794\n"
          ]
        }
      ]
    },
    {
      "cell_type": "markdown",
      "metadata": {
        "id": "4Y73Q-h5Hz1r"
      },
      "source": [
        "## Confusion matrix\n",
        "Calculate and display the confusion matrix."
      ]
    },
    {
      "cell_type": "code",
      "metadata": {
        "id": "cW8zZi1uJm2B",
        "colab": {
          "base_uri": "https://localhost:8080/",
          "height": 628
        },
        "outputId": "8ece4e7a-634a-4e40-9f4e-e5593767f0f8"
      },
      "source": [
        "y_pred = np.argmax(model.predict(X_test), axis=1)\n",
        "y_true = np.argmax(y_test, axis=1)\n",
        "\n",
        "cm = confusion_matrix(y_true, y_pred)\n",
        "sns.heatmap(cm, annot=True, fmt=\"d\", cmap=\"YlGnBu\")\n",
        "plt.xlabel(\"Predicted\")\n",
        "plt.ylabel(\"True\")\n",
        "plt.show()\n",
        "\n",
        "print(classification_report(y_true, y_pred))\n"
      ],
      "execution_count": 10,
      "outputs": [
        {
          "output_type": "stream",
          "name": "stdout",
          "text": [
            "571/571 [==============================] - 7s 11ms/step\n"
          ]
        },
        {
          "output_type": "display_data",
          "data": {
            "text/plain": [
              "<Figure size 640x480 with 2 Axes>"
            ],
            "image/png": "[encoded data removed]"
          },
          "metadata": {}
        },
        {
          "output_type": "stream",
          "name": "stdout",
          "text": [
            "              precision    recall  f1-score   support\n",
            "\n",
            "           0       0.99      0.99      0.99     15041\n",
            "           1       0.94      0.94      0.94      3201\n",
            "\n",
            "    accuracy                           0.98     18242\n",
            "   macro avg       0.96      0.96      0.96     18242\n",
            "weighted avg       0.98      0.98      0.98     18242\n",
            "\n"
          ]
        }
      ]
    }
  ]
}