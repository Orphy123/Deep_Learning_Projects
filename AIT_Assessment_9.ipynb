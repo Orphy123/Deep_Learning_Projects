{
  "nbformat": 4,
  "nbformat_minor": 0,
  "metadata": {
    "kernelspec": {
      "display_name": "Python 3",
      "language": "python",
      "name": "python3"
    },
    "language_info": {
      "codemirror_mode": {
        "name": "ipython",
        "version": 3
      },
      "file_extension": ".py",
      "mimetype": "text/x-python",
      "name": "python",
      "nbconvert_exporter": "python",
      "pygments_lexer": "ipython3",
      "version": "3.6.6"
    },
    "colab": {
      "provenance": [],
      "include_colab_link": true
    }
  },
  "cells": [
    {
      "cell_type": "markdown",
      "metadata": {
        "id": "view-in-github",
        "colab_type": "text"
      },
      "source": [
        "<a href=\"https://colab.research.google.com/github/Orphy123/AITDeepLearning/blob/main/AIT_Assessment_9.ipynb\" target=\"_parent\"><img src=\"https://colab.research.google.com/assets/colab-badge.svg\" alt=\"Open In Colab\"/></a>"
      ]
    },
    {
      "cell_type": "markdown",
      "metadata": {
        "id": "_jiGtJu6u9ml"
      },
      "source": [
        "# Copyright\n",
        "\n",
        "<PRE>\n",
        "Copyright (c) 2023 Bálint Gyires-Tóth - All Rights Reserved\n",
        "You may use and modify this code for research and development purpuses.\n",
        "Use this code for educational purposes (self-paced or instructor led) without the permission of the author is prohibited.\n",
        "</PRE>"
      ]
    },
    {
      "cell_type": "markdown",
      "metadata": {
        "id": "oXyFC44jV-PP"
      },
      "source": [
        "# Author classification\n",
        "The task is to train a 1D CNN or an LSTM that is able to  classify text from two authors. The final model should be able to tell about a text with a given length (e.g. 60 characters) who wrote it. \n",
        "\n",
        "Please write the codes according to the following parts:"
      ]
    },
    {
      "cell_type": "markdown",
      "metadata": {
        "id": "jCnLoeGrHXsp"
      },
      "source": [
        "## Python module imports\n",
        "Import all Python modules that you would need during the Assignment."
      ]
    },
    {
      "cell_type": "code",
      "metadata": {
        "id": "7itbFGt3HXVT"
      },
      "source": [
        "import numpy as np\n",
        "import pandas as pd\n",
        "import seaborn as sns\n",
        "import matplotlib.pyplot as plt\n",
        "import os\n",
        "import urllib.request\n",
        "from sklearn.model_selection import train_test_split\n",
        "from sklearn.metrics import confusion_matrix, classification_report\n",
        "from keras.models import Sequential\n",
        "from keras.layers import Dense, LSTM, Conv1D, MaxPooling1D, GlobalMaxPooling1D, Dropout, Embedding\n",
        "from keras.callbacks import EarlyStopping\n",
        "from keras.utils import to_categorical\n",
        "from keras.preprocessing.text import Tokenizer\n",
        "\n"
      ],
      "execution_count": 17,
      "outputs": []
    },
    {
      "cell_type": "markdown",
      "metadata": {
        "id": "Hr617tEpHd8R"
      },
      "source": [
        "## Data acquisition\n",
        "Seek a possible dataset, you can use any source, e.g.\n",
        "* http://www.gutenberg.org/\n",
        "* https://www.kaggle.com/datasets\n",
        "* https://paperswithcode.com/datasets\n",
        "* if you would like to learn Hungarian, than e.g. https://mek.oszk.hu/\n",
        "\n",
        "You can download the text by hand (e.g. by copy-pasting some parts into txt files) or with Python. "
      ]
    },
    {
      "cell_type": "code",
      "metadata": {
        "id": "NgkdQxHqHdZB",
        "colab": {
          "base_uri": "https://localhost:8080/"
        },
        "outputId": "74fcfecd-2758-447f-ebbb-8ee840b7a453"
      },
      "source": [
        "url1 = \"https://www.gutenberg.org/cache/epub/34424/pg34424.txt\"\n",
        "url2 = \"https://www.gutenberg.org/cache/epub/10082/pg10082.txt\"\n",
        "\n",
        "urllib.request.urlretrieve(url1, 'author1.txt')\n",
        "urllib.request.urlretrieve(url2, 'author2.txt')\n"
      ],
      "execution_count": 18,
      "outputs": [
        {
          "output_type": "execute_result",
          "data": {
            "text/plain": [
              "('author2.txt', <http.client.HTTPMessage at 0x7fabd0cd1340>)"
            ]
          },
          "metadata": {},
          "execution_count": 18
        }
      ]
    },
    {
      "cell_type": "markdown",
      "source": [
        "## Data analysis\n",
        "Count the number of characters from both authors and display them on a plot (e.g. Seaborn's countplot)."
      ],
      "metadata": {
        "id": "U9Pmq91t3SRD"
      }
    },
    {
      "cell_type": "code",
      "source": [
        "def load_text(file_path):\n",
        "    with open(file_path, 'r', encoding='utf-8') as file:\n",
        "        text = file.read()\n",
        "    return text\n",
        "\n",
        "author1_text = load_text('author1.txt')\n",
        "author2_text = load_text('author2.txt')\n",
        "\n",
        "author1_chars = len(author1_text)\n",
        "author2_chars = len(author2_text)\n",
        "\n",
        "sns.barplot(x=['Author 1', 'Author 2'], y=[author1_chars, author2_chars])\n",
        "plt.show()\n"
      ],
      "metadata": {
        "id": "uRqGdn4F3Spk",
        "colab": {
          "base_uri": "https://localhost:8080/",
          "height": 430
        },
        "outputId": "ff640d15-78d6-4e77-e0df-287f2356dc8e"
      },
      "execution_count": 19,
      "outputs": [
        {
          "output_type": "display_data",
          "data": {
            "text/plain": [
              "<Figure size 640x480 with 1 Axes>"
            ],
            "image/png": "[encoded data removed]"
          },
          "metadata": {}
        }
      ]
    },
    {
      "cell_type": "markdown",
      "metadata": {
        "id": "cHyE_ndGIblJ"
      },
      "source": [
        "## Data loading, labeling and preprocessing\n",
        "Load the data and convert the characters into one-hot encodings. Then load the data into a 3D NumPy array, with a shape of\n",
        "\n",
        "* (batch, sequence_length, alphabet_length)\n",
        "\n",
        "where sequence_length=60, and alphabet_length equals to the number of unique characters in both datasets. The sequences should be cut out from the complete dataset by sliding window. You should add 0 and 1 labels to the sequences, according to the author. \n",
        "\n",
        "Later you may change sequence_length to achieve better results!"
      ]
    },
    {
      "cell_type": "code",
      "metadata": {
        "id": "arooXt0WIb6x",
        "colab": {
          "base_uri": "https://localhost:8080/"
        },
        "outputId": "1c412c5a-1794-440e-d63e-4f16efcccc0c"
      },
      "source": [
        "def load_text(file_path):\n",
        "    with open(file_path, 'r', encoding='utf-8') as file:\n",
        "        text = file.read()\n",
        "    return text\n",
        "\n",
        "author1_text = load_text('author1.txt')\n",
        "author2_text = load_text('author2.txt')\n",
        "\n",
        "# combine texts and create mapping of unique characters to integers\n",
        "combined_text = author1_text + author2_text\n",
        "unique_chars = sorted(list(set(combined_text)))\n",
        "char_to_int = dict((c, i) for i, c in enumerate(unique_chars))\n",
        "\n",
        "# generate sequences with sliding window approach and assign labels\n",
        "sequences = []\n",
        "labels = []\n",
        "seq_length = 60\n",
        "for i in range(0, len(combined_text) - seq_length, 10):\n",
        "    seq = combined_text[i:i+seq_length]\n",
        "    label = 0 if i < len(author1_text) else 1\n",
        "    sequences.append([char_to_int[char] for char in seq])\n",
        "    labels.append(label)\n",
        "\n",
        "# convert sequences and labels to numpy arrays\n",
        "sequences = np.array(sequences)\n",
        "labels = to_categorical(labels)\n",
        "\n",
        "# convert characters to one-hot encodings\n",
        "alphabet_length = len(unique_chars)\n",
        "one_hot_sequences = np.zeros((len(sequences), seq_length, alphabet_length), dtype=np.bool)\n",
        "for i, sequence in enumerate(sequences):\n",
        "    for t, char in enumerate(sequence):\n",
        "        one_hot_sequences[i, t, char] = 1\n"
      ],
      "execution_count": 20,
      "outputs": [
        {
          "output_type": "stream",
          "name": "stderr",
          "text": [
            "<ipython-input-20-71a393245799>:30: DeprecationWarning: `np.bool` is a deprecated alias for the builtin `bool`. To silence this warning, use `bool` by itself. Doing this will not modify any behavior and is safe. If you specifically wanted the numpy scalar type, use `np.bool_` here.\n",
            "Deprecated in NumPy 1.20; for more details and guidance: https://numpy.org/devdocs/release/1.20.0-notes.html#deprecations\n",
            "  one_hot_sequences = np.zeros((len(sequences), seq_length, alphabet_length), dtype=np.bool)\n"
          ]
        }
      ]
    },
    {
      "cell_type": "markdown",
      "metadata": {
        "id": "lL1Mc8ibHnep"
      },
      "source": [
        "## Data splitting\n",
        "Split the data into train, validate and test sets. Make "
      ]
    },
    {
      "cell_type": "code",
      "metadata": {
        "id": "ELyG9XFUHrkB"
      },
      "source": [
        "X_train, X_test, y_train, y_test = train_test_split(one_hot_sequences, labels, test_size=0.2, random_state=42)\n",
        "X_train, X_val, y_train, y_val = train_test_split(X_train, y_train, test_size=0.2, random_state=42)\n"
      ],
      "execution_count": 21,
      "outputs": []
    },
    {
      "cell_type": "markdown",
      "metadata": {
        "id": "hA8U9tr7HrNQ"
      },
      "source": [
        "## Model definition\n",
        "Define a 1D CNN or an LSTM for the task. Compile the model with the correct loss function."
      ]
    },
    {
      "cell_type": "code",
      "metadata": {
        "id": "BT1V1s4kHuUe"
      },
      "source": [
        "model = Sequential()\n",
        "model.add(Conv1D(filters=64, kernel_size=3, activation='relu', input_shape=(seq_length, alphabet_length)))\n",
        "model.add(MaxPooling1D(pool_size=2))\n",
        "model.add(Conv1D(filters=128, kernel_size=3, activation='relu'))\n",
        "model.add(MaxPooling1D(pool_size=2))\n",
        "model.add(LSTM(units=128, dropout=0.2, recurrent_dropout=0.2))\n",
        "model.add(Dense(units=2, activation='softmax'))\n",
        "model.compile(loss='binary_crossentropy', optimizer='adam', metrics=['accuracy'])"
      ],
      "execution_count": 22,
      "outputs": []
    },
    {
      "cell_type": "markdown",
      "metadata": {
        "id": "hWFb-nAMHuAI"
      },
      "source": [
        "## Model training\n",
        "Train the model and apply early stopping."
      ]
    },
    {
      "cell_type": "code",
      "metadata": {
        "id": "dvgKjqp3Hwkp",
        "colab": {
          "base_uri": "https://localhost:8080/"
        },
        "outputId": "dded6b4c-5d1d-4ebc-979d-9b18fc4f9b52"
      },
      "source": [
        "callbacks = [EarlyStopping(monitor='val_loss', patience=3)]\n",
        "\n",
        "history = model.fit(X_train, y_train, validation_data=(X_val, y_val),\n",
        "                    epochs=12, batch_size=32, callbacks=callbacks)\n",
        "\n",
        "# evaluate the model on the test set\n",
        "loss, accuracy = model.evaluate(X_test, y_test)\n",
        "print(f'Test loss: {loss:.3f}\\nTest accuracy: {accuracy:.3f}')\n"
      ],
      "execution_count": 23,
      "outputs": [
        {
          "output_type": "stream",
          "name": "stdout",
          "text": [
            "Epoch 1/12\n",
            "2449/2449 [==============================] - 161s 64ms/step - loss: 0.0655 - accuracy: 0.9783 - val_loss: 0.0360 - val_accuracy: 0.9836\n",
            "Epoch 2/12\n",
            "2449/2449 [==============================] - 158s 65ms/step - loss: 0.0328 - accuracy: 0.9845 - val_loss: 0.0273 - val_accuracy: 0.9837\n",
            "Epoch 3/12\n",
            "2449/2449 [==============================] - 154s 63ms/step - loss: 0.0265 - accuracy: 0.9854 - val_loss: 0.0268 - val_accuracy: 0.9848\n",
            "Epoch 4/12\n",
            "2449/2449 [==============================] - 157s 64ms/step - loss: 0.0246 - accuracy: 0.9858 - val_loss: 0.0257 - val_accuracy: 0.9840\n",
            "Epoch 5/12\n",
            "2449/2449 [==============================] - 156s 64ms/step - loss: 0.0226 - accuracy: 0.9867 - val_loss: 0.0253 - val_accuracy: 0.9841\n",
            "Epoch 6/12\n",
            "2449/2449 [==============================] - 160s 65ms/step - loss: 0.0211 - accuracy: 0.9877 - val_loss: 0.0294 - val_accuracy: 0.9844\n",
            "Epoch 7/12\n",
            "2449/2449 [==============================] - 157s 64ms/step - loss: 0.0206 - accuracy: 0.9885 - val_loss: 0.0251 - val_accuracy: 0.9838\n",
            "Epoch 8/12\n",
            "2449/2449 [==============================] - 152s 62ms/step - loss: 0.0188 - accuracy: 0.9897 - val_loss: 0.0253 - val_accuracy: 0.9839\n",
            "Epoch 9/12\n",
            "2449/2449 [==============================] - 155s 63ms/step - loss: 0.0180 - accuracy: 0.9908 - val_loss: 0.0258 - val_accuracy: 0.9831\n",
            "Epoch 10/12\n",
            "2449/2449 [==============================] - 153s 63ms/step - loss: 0.0161 - accuracy: 0.9918 - val_loss: 0.0295 - val_accuracy: 0.9845\n",
            "766/766 [==============================] - 15s 20ms/step - loss: 0.0305 - accuracy: 0.9849\n",
            "Test loss: 0.030\n",
            "Test accuracy: 0.985\n"
          ]
        }
      ]
    },
    {
      "cell_type": "markdown",
      "metadata": {
        "id": "0omw2XzSHwOo"
      },
      "source": [
        "## Evaluation on test data\n",
        "Evaluate the model on the test data in terms of loss and accuracy."
      ]
    },
    {
      "cell_type": "code",
      "metadata": {
        "id": "4bF3dQA1Hv_R",
        "colab": {
          "base_uri": "https://localhost:8080/"
        },
        "outputId": "7d36802f-d0d5-4ac4-90df-379c447c87c2"
      },
      "source": [
        "loss, accuracy = model.evaluate(X_test, y_test)\n",
        "print(f\"Loss: {loss:.4f}\")\n",
        "print(f\"Accuracy: {accuracy:.4f}\")\n"
      ],
      "execution_count": 24,
      "outputs": [
        {
          "output_type": "stream",
          "name": "stdout",
          "text": [
            "766/766 [==============================] - 14s 18ms/step - loss: 0.0305 - accuracy: 0.9849\n",
            "Loss: 0.0305\n",
            "Accuracy: 0.9849\n"
          ]
        }
      ]
    },
    {
      "cell_type": "markdown",
      "metadata": {
        "id": "4Y73Q-h5Hz1r"
      },
      "source": [
        "## Confusion matrix\n",
        "Calculate and display the confusion matrix."
      ]
    },
    {
      "cell_type": "code",
      "metadata": {
        "id": "cW8zZi1uJm2B",
        "colab": {
          "base_uri": "https://localhost:8080/",
          "height": 632
        },
        "outputId": "0444601b-9c8e-4452-b3d5-338535007465"
      },
      "source": [
        "y_pred = np.argmax(model.predict(X_test), axis=1)\n",
        "y_true = np.argmax(y_test, axis=1)\n",
        "\n",
        "cm = confusion_matrix(y_true, y_pred)\n",
        "sns.heatmap(cm, annot=True, fmt=\"d\", cmap=\"YlGnBu\")\n",
        "plt.xlabel(\"Predicted\")\n",
        "plt.ylabel(\"True\")\n",
        "plt.show()\n",
        "\n",
        "print(classification_report(y_true, y_pred))\n"
      ],
      "execution_count": 25,
      "outputs": [
        {
          "output_type": "stream",
          "name": "stdout",
          "text": [
            "766/766 [==============================] - 11s 13ms/step\n"
          ]
        },
        {
          "output_type": "display_data",
          "data": {
            "text/plain": [
              "<Figure size 640x480 with 2 Axes>"
            ],
            "image/png": "[encoded data removed]"
          },
          "metadata": {}
        },
        {
          "output_type": "stream",
          "name": "stdout",
          "text": [
            "              precision    recall  f1-score   support\n",
            "\n",
            "           0       0.98      0.99      0.98     12250\n",
            "           1       0.99      0.98      0.98     12241\n",
            "\n",
            "    accuracy                           0.98     24491\n",
            "   macro avg       0.98      0.98      0.98     24491\n",
            "weighted avg       0.98      0.98      0.98     24491\n",
            "\n"
          ]
        }
      ]
    }
  ]
}